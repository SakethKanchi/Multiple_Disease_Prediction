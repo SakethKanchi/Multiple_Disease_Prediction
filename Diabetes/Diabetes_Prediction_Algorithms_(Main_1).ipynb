{
  "nbformat": 4,
  "nbformat_minor": 0,
  "metadata": {
    "colab": {
      "provenance": []
    },
    "kernelspec": {
      "name": "python3",
      "display_name": "Python 3"
    },
    "language_info": {
      "name": "python"
    }
  },
  "cells": [
    {
      "cell_type": "markdown",
      "source": [
        "# **Description**\n",
        "\n",
        "The dataset contains several medical predictor (Independent) variables and one target variable, (Outcome). Predictor variables include:\n",
        "\n",
        "1. Pregnancies\n",
        "2. Glucose\n",
        "3. BloodPressure\n",
        "4. SkinThickness\n",
        "5. Insulin\n",
        "6. BMI\n",
        "7. DiabetesPedigreeFunction\n",
        "8. Age\n",
        "\n",
        "Dataset url: https://www.kaggle.com/datasets/uciml/pima-indians-diabetes-database\n",
        "\n",
        "\n",
        "\n"
      ],
      "metadata": {
        "id": "o6GDzgy-QQU0"
      }
    },
    {
      "cell_type": "markdown",
      "source": [
        "Several constraints were placed on the selection of these instances from a larger database. In particular, all patients here are females at least 21 years old of Pima Indian heritage.\n",
        "\n",
        "1) Pregnancies: Number of times pregnant\n",
        "\n",
        "2) Glucose: Plasma glucose concentration a 2 hours in an oral glucose tolerance test\n",
        "\n",
        "3) BloodPressure: Diastolic blood pressure (mm Hg)\n",
        "\n",
        "4) SkinThickness: Triceps skin fold thickness (mm)\n",
        "\n",
        "5) Insulin: 2-Hour serum insulin (mu U/ml)\n",
        "\n",
        "6) BMI: Body mass index (weight in kg/(height in m)^2)\n",
        "\n",
        "7) DiabetesPedigreeFunction: Diabetes pedigree function\n",
        "\n",
        "8) Age: Age (years)\n",
        "\n",
        "9) Outcome: Class variable (0 or 1)\n"
      ],
      "metadata": {
        "id": "y4WYUFISRsen"
      }
    },
    {
      "cell_type": "markdown",
      "source": [
        "## **Step 1: Importing Libraries**"
      ],
      "metadata": {
        "id": "o8Ho9Ozv519p"
      }
    },
    {
      "cell_type": "code",
      "execution_count": null,
      "metadata": {
        "id": "giB0vlfl5mVM"
      },
      "outputs": [],
      "source": [
        "import numpy as np\n",
        "import pandas as pd\n",
        "import matplotlib.pyplot as plt\n",
        "import seaborn as sns"
      ]
    },
    {
      "cell_type": "markdown",
      "source": [
        "## **Step 2: Load the Dataset**"
      ],
      "metadata": {
        "id": "86q3Dzt86Mou"
      }
    },
    {
      "cell_type": "code",
      "source": [
        "diabetes_dataset = pd.read_csv('diabetes.csv') "
      ],
      "metadata": {
        "id": "sVisqQic6G7i"
      },
      "execution_count": null,
      "outputs": []
    },
    {
      "cell_type": "markdown",
      "source": [
        "## **Step 3: Exploratory Data Analysis**\n",
        "Exploratory Data Analysis (EDA), also known as Data Exploration, is a step in the Data Analysis Process, where a number of techniques are used to better understand the dataset being used.\n",
        "\n",
        "**3.1) Understanding Your Variables** \n",
        "\n",
        "            3.1.1) Head of the dataset\n",
        "            3.1.2) The shape of the dataset\n",
        "            3.1.3) List types of columns\n",
        "            3.1.4) Info of the dataset\n",
        "            3.1.5) Summary of the dataset\n",
        "\n",
        "**3.1.1) Head of the Dataset**\n"
      ],
      "metadata": {
        "id": "yALU1j-k6jRG"
      }
    },
    {
      "cell_type": "code",
      "source": [
        "# Display first five records\n",
        "diabetes_dataset.head()"
      ],
      "metadata": {
        "id": "dXnDZrig6fLa"
      },
      "execution_count": null,
      "outputs": []
    },
    {
      "cell_type": "code",
      "source": [
        "# Display last five records\n",
        "diabetes_dataset.tail()"
      ],
      "metadata": {
        "id": "5fF7oQ0Q8JpY"
      },
      "execution_count": null,
      "outputs": []
    },
    {
      "cell_type": "code",
      "source": [
        "# Disply random records\n",
        "diabetes_dataset.sample(5)"
      ],
      "metadata": {
        "id": "83oNaOrB8VDe"
      },
      "execution_count": null,
      "outputs": []
    },
    {
      "cell_type": "markdown",
      "source": [
        "**3.1.2) The Shape of Dataset**"
      ],
      "metadata": {
        "id": "Irb-FDdJ8kQs"
      }
    },
    {
      "cell_type": "code",
      "source": [
        " # Numbers of rows and columns \n",
        "diabetes_dataset.shape"
      ],
      "metadata": {
        "id": "xLxJUxkt8bIj"
      },
      "execution_count": null,
      "outputs": []
    },
    {
      "cell_type": "markdown",
      "source": [
        "**3.1.3) List types of columns**"
      ],
      "metadata": {
        "id": "0aZcLjCi9Bwe"
      }
    },
    {
      "cell_type": "code",
      "source": [
        "# List types of all columns\n",
        "diabetes_dataset.dtypes"
      ],
      "metadata": {
        "id": "vPpKkDrc9GHE"
      },
      "execution_count": null,
      "outputs": []
    },
    {
      "cell_type": "markdown",
      "source": [
        "**3.1.4) Info of the Dataset**"
      ],
      "metadata": {
        "id": "pyqEcfgR9PD1"
      }
    },
    {
      "cell_type": "code",
      "source": [
        "# Checking for null values\n",
        "diabetes_dataset.info()"
      ],
      "metadata": {
        "id": "0nt11BTc8sIw"
      },
      "execution_count": null,
      "outputs": []
    },
    {
      "cell_type": "code",
      "source": [
        "# Statistical Summary\n",
        "diabetes_dataset.describe()"
      ],
      "metadata": {
        "id": "-uEilXbm8x5z"
      },
      "execution_count": null,
      "outputs": []
    },
    {
      "cell_type": "markdown",
      "source": [
        "# **Step 4: Split the data frame in X & Y**"
      ],
      "metadata": {
        "id": "kaHH_JjrF4lg"
      }
    },
    {
      "cell_type": "code",
      "source": [
        "target_name = 'Outcome'\n",
        "\n",
        "# Separate object for target feature\n",
        "y = diabetes_dataset[target_name]\n",
        "\n",
        "# Separate obhect for input feature\n",
        "X = diabetes_dataset.drop(target_name,axis=1)"
      ],
      "metadata": {
        "id": "BmkgGOYlFbgc"
      },
      "execution_count": null,
      "outputs": []
    },
    {
      "cell_type": "code",
      "source": [
        "X.head()"
      ],
      "metadata": {
        "id": "5CHi3BXiGNuX"
      },
      "execution_count": null,
      "outputs": []
    },
    {
      "cell_type": "code",
      "source": [
        "y.head()"
      ],
      "metadata": {
        "id": "a810xNY3GR74"
      },
      "execution_count": null,
      "outputs": []
    },
    {
      "cell_type": "markdown",
      "source": [
        "# **Step 5: Apply Feature Scaling**\n",
        "\n",
        "Various Data Scaling Techniques:\n",
        "\n",
        "1.   Normalizer\n",
        "2.   MinMax Scaler\n",
        "3.   Binarizer\n",
        "4.   Standard Scaler\n"
      ],
      "metadata": {
        "id": "Y4ILPzLkGVMM"
      }
    },
    {
      "cell_type": "code",
      "source": [
        "# Apply Standard Scaler\n",
        "from sklearn.preprocessing import StandardScaler\n",
        "scaler = StandardScaler()\n",
        "SSX = scaler.fit_transform(X)"
      ],
      "metadata": {
        "id": "o7M74LFVGSve"
      },
      "execution_count": null,
      "outputs": []
    },
    {
      "cell_type": "markdown",
      "source": [
        "# **Step 6: Train Test Split**\n",
        "\n"
      ],
      "metadata": {
        "id": "qX1XNdSsGyOn"
      }
    },
    {
      "cell_type": "code",
      "source": [
        "from sklearn.model_selection import train_test_split\n",
        "X_train,X_test,y_train,y_test = train_test_split(SSX,y,test_size=0.2,random_state=2)"
      ],
      "metadata": {
        "id": "L0exSt1FGs_p"
      },
      "execution_count": null,
      "outputs": []
    },
    {
      "cell_type": "code",
      "source": [
        "X_train.shape,y_train.shape"
      ],
      "metadata": {
        "id": "snO_mS4CHETJ"
      },
      "execution_count": null,
      "outputs": []
    },
    {
      "cell_type": "markdown",
      "source": [
        "# **Step 7: Build CLASSIFICATION Algorithms**"
      ],
      "metadata": {
        "id": "AJ-wFkxQHqh8"
      }
    },
    {
      "cell_type": "markdown",
      "source": [
        ">**8.1) Logistic Regression**"
      ],
      "metadata": {
        "id": "BwHCyGJHHvXM"
      }
    },
    {
      "cell_type": "code",
      "source": [
        "from sklearn.linear_model import LogisticRegression\n",
        "lr = LogisticRegression(solver='liblinear',multi_class='ovr')\n",
        "lr.fit(X_train,y_train)"
      ],
      "metadata": {
        "id": "SGeqDNhsHHnf"
      },
      "execution_count": null,
      "outputs": []
    },
    {
      "cell_type": "markdown",
      "source": [
        ">**8.2) K-Nearest Neighbors Classifier(KNN)**"
      ],
      "metadata": {
        "id": "8dv-3PwWIpNT"
      }
    },
    {
      "cell_type": "code",
      "source": [
        "from sklearn.neighbors import KNeighborsClassifier\n",
        "knn = KNeighborsClassifier()\n",
        "knn.fit(X_train,y_train)"
      ],
      "metadata": {
        "id": "DlL7RX3ZIF9s"
      },
      "execution_count": null,
      "outputs": []
    },
    {
      "cell_type": "markdown",
      "source": [
        ">**8.3) Naive-Bayes Classifier**"
      ],
      "metadata": {
        "id": "DJ6WYrh7I5Tq"
      }
    },
    {
      "cell_type": "code",
      "source": [
        "from sklearn.naive_bayes import GaussianNB\n",
        "nb = GaussianNB()\n",
        "nb.fit(X_train, y_train)"
      ],
      "metadata": {
        "id": "VsH6WoyvI3ft"
      },
      "execution_count": null,
      "outputs": []
    },
    {
      "cell_type": "markdown",
      "source": [
        ">**8.4) Support Vector Machine (SVM)**"
      ],
      "metadata": {
        "id": "MMIdSX02I51E"
      }
    },
    {
      "cell_type": "code",
      "source": [
        "from sklearn.svm import SVC\n",
        "sv = SVC(kernel='linear')\n",
        "sv.fit(X_train,y_train)"
      ],
      "metadata": {
        "id": "Hfxr1tcGI6V5"
      },
      "execution_count": null,
      "outputs": []
    },
    {
      "cell_type": "markdown",
      "source": [
        ">**8.5) Decision Tree**"
      ],
      "metadata": {
        "id": "6J2vbXEmJgks"
      }
    },
    {
      "cell_type": "code",
      "source": [
        "from sklearn.tree import DecisionTreeClassifier\n",
        "dt = DecisionTreeClassifier()\n",
        "dt.fit(X_train,y_train)"
      ],
      "metadata": {
        "id": "xhLW33YQJerE"
      },
      "execution_count": null,
      "outputs": []
    },
    {
      "cell_type": "markdown",
      "source": [
        ">**8.6) Random Forest**"
      ],
      "metadata": {
        "id": "ywZ7cRQrJg_e"
      }
    },
    {
      "cell_type": "code",
      "source": [
        "from sklearn.ensemble import RandomForestClassifier\n",
        "rf = RandomForestClassifier(criterion='entropy')\n",
        "rf.fit(X_train,y_train)"
      ],
      "metadata": {
        "id": "qJO_gh7WJ0ll"
      },
      "execution_count": null,
      "outputs": []
    },
    {
      "cell_type": "markdown",
      "source": [
        "# **Step 8: Making Prediction** "
      ],
      "metadata": {
        "id": "eYSCtI83KEyU"
      }
    },
    {
      "cell_type": "markdown",
      "source": [
        ">**9.1) Making Prediction using Logistic Regression**"
      ],
      "metadata": {
        "id": "hqWP0AsyKLtw"
      }
    },
    {
      "cell_type": "code",
      "source": [
        "lr_pred = lr.predict(X_test)"
      ],
      "metadata": {
        "id": "EiWDDOa9Kfkq"
      },
      "execution_count": null,
      "outputs": []
    },
    {
      "cell_type": "markdown",
      "source": [
        "> **9.2) Making Prediction using KNN**"
      ],
      "metadata": {
        "id": "Akw-wIolKkqU"
      }
    },
    {
      "cell_type": "code",
      "source": [
        "knn_pred = knn.predict(X_test) "
      ],
      "metadata": {
        "id": "Y-zVS8pzKlAm"
      },
      "execution_count": null,
      "outputs": []
    },
    {
      "cell_type": "markdown",
      "source": [
        "> **9.3) Making Prediction using Naive Bayes**"
      ],
      "metadata": {
        "id": "BA5grVR7KlOc"
      }
    },
    {
      "cell_type": "code",
      "source": [
        "nb_pred = nb.predict(X_test)"
      ],
      "metadata": {
        "id": "LVfYAidBKlmc"
      },
      "execution_count": null,
      "outputs": []
    },
    {
      "cell_type": "markdown",
      "source": [
        "> **9.4) Making Prediction using SVM**\n"
      ],
      "metadata": {
        "id": "4g7FvZjiKl01"
      }
    },
    {
      "cell_type": "code",
      "source": [
        "sv_pred = sv.predict(X_test)"
      ],
      "metadata": {
        "id": "8yjkxkJgLRLr"
      },
      "execution_count": null,
      "outputs": []
    },
    {
      "cell_type": "markdown",
      "source": [
        "> **9.5) Making Prediction using Decision Tree**"
      ],
      "metadata": {
        "id": "5oFQOY2uLRgz"
      }
    },
    {
      "cell_type": "code",
      "source": [
        "dt_pred = dt.predict(X_test)"
      ],
      "metadata": {
        "id": "J7bATu-aMVBz"
      },
      "execution_count": null,
      "outputs": []
    },
    {
      "cell_type": "markdown",
      "source": [
        "> **9.6) Making Prediciton using Random Forest**"
      ],
      "metadata": {
        "id": "f6CyxdyVMame"
      }
    },
    {
      "cell_type": "code",
      "source": [
        "rf_pred = rf.predict(X_test)"
      ],
      "metadata": {
        "id": "PBrVonc-MZc2"
      },
      "execution_count": null,
      "outputs": []
    },
    {
      "cell_type": "markdown",
      "source": [
        "# **Step 9: Model Evaluation**"
      ],
      "metadata": {
        "id": "dcCbPwOKMlYt"
      }
    },
    {
      "cell_type": "markdown",
      "source": [
        "> **10.1) Train & Test Scores** \n"
      ],
      "metadata": {
        "id": "fBklRs4FMs1U"
      }
    },
    {
      "cell_type": "code",
      "source": [
        "from sklearn.metrics import accuracy_score"
      ],
      "metadata": {
        "id": "EAd5bmv5Mrh0"
      },
      "execution_count": null,
      "outputs": []
    },
    {
      "cell_type": "code",
      "source": [
        "# Train & Test Scores of Logistic Regression\n",
        "print(\"Accuracy (Train) score of Logistic Regression \",lr.score(X_train,y_train)*100)\n",
        "print(\"Accuracy (Test) score of Logistic Regression \", lr.score(X_test,y_test)*100)\n",
        "print(\"Accuracy score of Logistic Regression \", accuracy_score(y_test,lr_pred)*100)"
      ],
      "metadata": {
        "id": "6HKz_MqJM8Nb"
      },
      "execution_count": null,
      "outputs": []
    },
    {
      "cell_type": "code",
      "source": [
        "# Train & Test Scores of KNN\n",
        "print(\"Accuracy (Train) score of KNN \",knn.score(X_train,y_train)*100)\n",
        "print(\"Accuracy (Test) score of KNN \", knn.score(X_test,y_test)*100)\n",
        "print(\"Accuracy score of KNN \", accuracy_score(y_test,knn_pred)*100)"
      ],
      "metadata": {
        "id": "yqPEgsSCNDo7"
      },
      "execution_count": null,
      "outputs": []
    },
    {
      "cell_type": "code",
      "source": [
        "# Train & Test Scores of Naive-Bayes\n",
        "print(\"Accuracy (Train) score of Naive Bayes \",nb.score(X_train,y_train)*100)\n",
        "print(\"Accuracy (Test) score of Naive Bayes \", nb.score(X_test,y_test)*100)\n",
        "print(\"Accuracy score of Naive Bayes \", accuracy_score(y_test,nb_pred)*100)"
      ],
      "metadata": {
        "id": "6xFuPx1hND68"
      },
      "execution_count": null,
      "outputs": []
    },
    {
      "cell_type": "code",
      "source": [
        "# Train & Test Scores of SVM\n",
        "print(\"Accuracy (Train) score of SVM \",sv.score(X_train,y_train)*100)\n",
        "print(\"Accuracy (Test) score of SVM \", sv.score(X_test,y_test)*100)\n",
        "print(\"Accuracy score of SVM \", accuracy_score(y_test,sv_pred)*100)"
      ],
      "metadata": {
        "id": "3qwlJOiCNEKg"
      },
      "execution_count": null,
      "outputs": []
    },
    {
      "cell_type": "code",
      "source": [
        "# Train & Test Scores of Decision Tree\n",
        "print(\"Accuracy (Train) score of Decision Tree \",dt.score(X_train,y_train)*100)\n",
        "print(\"Accuracy (Test) score of Decision Tree \", dt.score(X_test,y_test)*100)\n",
        "print(\"Accuracy score of Decision Tree \", accuracy_score(y_test,dt_pred)*100)"
      ],
      "metadata": {
        "id": "W9Z2es-9NEWS"
      },
      "execution_count": null,
      "outputs": []
    },
    {
      "cell_type": "code",
      "source": [
        "# Train & Test Scores of Random Forest\n",
        "print(\"Accuracy (Train) score of Random Forest \",rf.score(X_train,y_train)*100)\n",
        "print(\"Accuracy (Test) score of Random Forest \", rf.score(X_test,y_test)*100)\n",
        "print(\"Accuracy score of Random Forest \", accuracy_score(y_test,rf_pred)*100)"
      ],
      "metadata": {
        "id": "oMGFSh2CNEfO"
      },
      "execution_count": null,
      "outputs": []
    },
    {
      "cell_type": "markdown",
      "source": [
        "# **Step 10: Making a prediction System**"
      ],
      "metadata": {
        "id": "8hecrCcm-Dpr"
      }
    },
    {
      "cell_type": "code",
      "source": [
        "input_data = (5,166,72,19,175,25.8,0.587,51)\n",
        "\n",
        "# changing the input_data to numpy array\n",
        "input_data_as_numpy_array = np.asarray(input_data)\n",
        "\n",
        "# reshape the array as we are predicting for one instance\n",
        "input_data_reshaped = input_data_as_numpy_array.reshape(1,-1)\n",
        "\n",
        "# standardize the input data\n",
        "std_data = scaler.transform(input_data_reshaped)\n",
        "print(std_data)\n",
        "\n",
        "prediction = lr.predict(std_data)\n",
        "print(prediction)\n",
        "\n",
        "if (prediction[0] == 0):\n",
        "  print('The person is not diabetic')\n",
        "else:\n",
        "  print('The person is diabetic')"
      ],
      "metadata": {
        "id": "8XxFeD5zNEoT"
      },
      "execution_count": null,
      "outputs": []
    },
    {
      "cell_type": "markdown",
      "source": [
        "# **Step 11: Saving the trained Model**"
      ],
      "metadata": {
        "id": "9E4Yr-yV_q5C"
      }
    },
    {
      "cell_type": "code",
      "source": [
        "import pickle\n",
        "filename = 'diabetes_model.sav'\n",
        "pickle.dump(lr,open(filename,'wb'))"
      ],
      "metadata": {
        "id": "PirNVKYa_s7a"
      },
      "execution_count": null,
      "outputs": []
    }
  ]
}