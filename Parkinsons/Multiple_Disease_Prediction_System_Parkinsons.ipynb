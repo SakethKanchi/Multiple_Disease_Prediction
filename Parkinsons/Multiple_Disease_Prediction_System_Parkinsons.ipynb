{
  "nbformat": 4,
  "nbformat_minor": 0,
  "metadata": {
    "colab": {
      "provenance": []
    },
    "kernelspec": {
      "name": "python3",
      "display_name": "Python 3"
    },
    "language_info": {
      "name": "python"
    }
  },
  "cells": [
    {
      "cell_type": "markdown",
      "source": [
        "#**Description** \n",
        "The dataset was created by Max Little of the University of Oxford, in\n",
        "collaboration with the National Centre for Voice and Speech, Denver,\n",
        "Colorado, who recorded the speech signals. The original study published the\n",
        "feature extraction methods for general voice disorders.\n",
        "\n",
        "    1. Matrix column entries (attributes):\n",
        "    2. name - ASCII subject name and recording number\n",
        "    3. MDVP:Fo(Hz) - Average vocal fundamental frequency\n",
        "    4. MDVP:Fhi(Hz) - Maximum vocal fundamental frequency\n",
        "    5. MDVP:Flo(Hz) - Minimum vocal fundamental frequency\n",
        "    6. MDVP:Jitter(%),MDVP:Jitter(Abs),MDVP:RAP,MDVP:PPQ,Jitter:DDP - Several\n",
        "    7. measures of variation in fundamental frequency\n",
        "    8. MDVP:Shimmer,MDVP:Shimmer(dB),Shimmer:APQ3,Shimmer:APQ5,MDVP:APQ,Shimmer:DDA - Several measures of variation in amplitude\n",
        "    9. NHR,HNR - Two measures of ratio of noise to tonal components in the voice\n",
        "    10. status - Health status of the subject (one) - Parkinson's, (zero) - healthy\n",
        "    11. RPDE,D2 - Two nonlinear dynamical complexity measures\n",
        "    12. DFA - Signal fractal scaling exponent\n",
        "    13. spread1,spread2,PPE - Three nonlinear measures of fundamental frequency variation\n",
        "https://www.kaggle.com/datasets/thecansin/parkinsons-data-set"
      ],
      "metadata": {
        "id": "CCxUVgi_a9bG"
      }
    },
    {
      "cell_type": "markdown",
      "source": [
        "# **Step 1 : Importing the Libraries**\n"
      ],
      "metadata": {
        "id": "8p7Sye-ba7Ac"
      }
    },
    {
      "cell_type": "code",
      "source": [
        "import numpy as np\n",
        "import pandas as pd\n",
        "from sklearn.model_selection import train_test_split\n",
        "from sklearn import svm\n",
        "from sklearn.metrics import accuracy_score"
      ],
      "metadata": {
        "id": "0K-GAPAsb5Bw"
      },
      "execution_count": null,
      "outputs": []
    },
    {
      "cell_type": "markdown",
      "source": [
        "# **Step 2: Loading the dataset**"
      ],
      "metadata": {
        "id": "AjRjt_JQb6Bh"
      }
    },
    {
      "cell_type": "code",
      "source": [
        "# loading the csv data to a Pandas DataFrame\n",
        "parkinsons_data = pd.read_csv('/content/parkinsons.csv')"
      ],
      "metadata": {
        "id": "eQ3vYJSTcBqF"
      },
      "execution_count": null,
      "outputs": []
    },
    {
      "cell_type": "markdown",
      "source": [
        "## **Step 3: Exploratory Data Analysis**\n",
        "Exploratory Data Analysis (EDA), also known as Data Exploration, is a step in the Data Analysis Process, where a number of techniques are used to better understand the dataset being used.\n",
        "\n",
        "**3.1) Understanding Your Variables** \n",
        "\n",
        "            3.1.1) Head of the dataset\n",
        "            3.1.2) The shape of the dataset\n",
        "            3.1.3) List types of columns\n",
        "            3.1.4) Info of the dataset\n",
        "            3.1.5) Summary of the dataset\n",
        "\n",
        "**3.1.1) Head of the Dataset**"
      ],
      "metadata": {
        "id": "TQAug-DecNQx"
      }
    },
    {
      "cell_type": "code",
      "source": [
        "# Display first five records\n",
        "parkinsons_data.head()"
      ],
      "metadata": {
        "id": "q5YvPILvcOtE"
      },
      "execution_count": null,
      "outputs": []
    },
    {
      "cell_type": "code",
      "source": [
        "# Display last five records\n",
        "parkinsons_data.tail()"
      ],
      "metadata": {
        "id": "r1j5995NcTbM"
      },
      "execution_count": null,
      "outputs": []
    },
    {
      "cell_type": "markdown",
      "source": [
        "**3.1.2) The Shape of Dataset**"
      ],
      "metadata": {
        "id": "kjXANZTJcXxF"
      }
    },
    {
      "cell_type": "code",
      "source": [
        "parkinsons_data.shape"
      ],
      "metadata": {
        "id": "mH12uErQcc2u"
      },
      "execution_count": null,
      "outputs": []
    },
    {
      "cell_type": "markdown",
      "source": [
        "**3.1.3)List types of columns**"
      ],
      "metadata": {
        "id": "fG8D4WqCchP9"
      }
    },
    {
      "cell_type": "code",
      "source": [
        "parkinsons_data.dtypes"
      ],
      "metadata": {
        "id": "kgD80I2zcl5T"
      },
      "execution_count": null,
      "outputs": []
    },
    {
      "cell_type": "markdown",
      "source": [
        "**3.1.4)Info of Dataset**"
      ],
      "metadata": {
        "id": "Dfjk3GDico7H"
      }
    },
    {
      "cell_type": "code",
      "source": [
        "# getting some info about the data\n",
        "parkinsons_data.info()"
      ],
      "metadata": {
        "id": "hnngNNUTcr8U"
      },
      "execution_count": null,
      "outputs": []
    },
    {
      "cell_type": "code",
      "source": [
        "# checking for missing values\n",
        "parkinsons_data.isnull().sum()"
      ],
      "metadata": {
        "id": "HrIlMGSwcxGv"
      },
      "execution_count": null,
      "outputs": []
    },
    {
      "cell_type": "code",
      "source": [
        "# Statistical Summary\n",
        "parkinsons_data.describe()"
      ],
      "metadata": {
        "id": "HmEE2ZTRcz4Y"
      },
      "execution_count": null,
      "outputs": []
    },
    {
      "cell_type": "code",
      "source": [
        "# checking the distribution of target Variable\n",
        "parkinsons_data['status'].value_counts()"
      ],
      "metadata": {
        "id": "ieyAAHOTc5SK"
      },
      "execution_count": null,
      "outputs": []
    },
    {
      "cell_type": "markdown",
      "source": [
        "```\n",
        "1 --> Parkinson's Positive\n",
        "\n",
        "2 --> Healthy\n",
        "```"
      ],
      "metadata": {
        "id": "b97UsDTLc-Bb"
      }
    },
    {
      "cell_type": "code",
      "source": [
        "# grouping the data based on the target variable\n",
        "parkinsons_data.groupby('status').mean()"
      ],
      "metadata": {
        "id": "dGmYT6h0dHqK"
      },
      "execution_count": null,
      "outputs": []
    },
    {
      "cell_type": "markdown",
      "source": [
        "# **Step 4: Split the data frame in X & Y**"
      ],
      "metadata": {
        "id": "qCAkVzqxdOVi"
      }
    },
    {
      "cell_type": "code",
      "source": [
        "X = parkinsons_data.drop(columns=['name','status'], axis=1)\n",
        "Y = parkinsons_data['status']"
      ],
      "metadata": {
        "id": "GpFfT8yHdTNz"
      },
      "execution_count": null,
      "outputs": []
    },
    {
      "cell_type": "code",
      "source": [
        "X.head()"
      ],
      "metadata": {
        "id": "5WNoEgUmdUWA"
      },
      "execution_count": null,
      "outputs": []
    },
    {
      "cell_type": "code",
      "source": [
        "Y.head()"
      ],
      "metadata": {
        "id": "ZaY5HH59dYKm"
      },
      "execution_count": null,
      "outputs": []
    },
    {
      "cell_type": "markdown",
      "source": [
        "# **Step 5: Splitting the Data into Training data & Test Data**"
      ],
      "metadata": {
        "id": "p-LDO63keO7F"
      }
    },
    {
      "cell_type": "code",
      "source": [
        "X_train, X_test, Y_train, Y_test = train_test_split(X, Y, test_size=0.2, random_state=2)"
      ],
      "metadata": {
        "id": "DErAJylFdo3-"
      },
      "execution_count": null,
      "outputs": []
    },
    {
      "cell_type": "code",
      "source": [
        "print(X.shape, X_train.shape, X_test.shape)"
      ],
      "metadata": {
        "id": "7CHmXuHVeRix"
      },
      "execution_count": null,
      "outputs": []
    },
    {
      "cell_type": "markdown",
      "source": [
        "# **Step 6: Building Classification Algorithm**"
      ],
      "metadata": {
        "id": "GSWudi-3eS2g"
      }
    },
    {
      "cell_type": "markdown",
      "source": [
        ">**6.1) Logistic Regression**"
      ],
      "metadata": {
        "id": "Nf5RBvOeph4Q"
      }
    },
    {
      "cell_type": "code",
      "source": [
        "from sklearn.linear_model import LogisticRegression\n",
        "lr = LogisticRegression(solver='liblinear',multi_class='ovr')\n",
        "lr.fit(X_train,Y_train)"
      ],
      "metadata": {
        "id": "opa2DLu3pcg4"
      },
      "execution_count": null,
      "outputs": []
    },
    {
      "cell_type": "markdown",
      "source": [
        ">**6.2) K-Nearest Neighbors Classifier(KNN)**"
      ],
      "metadata": {
        "id": "CjlLSrjPpioV"
      }
    },
    {
      "cell_type": "code",
      "source": [
        "from sklearn.neighbors import KNeighborsClassifier\n",
        "knn = KNeighborsClassifier()\n",
        "knn.fit(X_train,Y_train)"
      ],
      "metadata": {
        "id": "XzLSNFk9pk2z"
      },
      "execution_count": null,
      "outputs": []
    },
    {
      "cell_type": "markdown",
      "source": [
        ">**6.3) Naive-Bayes Classifier**"
      ],
      "metadata": {
        "id": "Y_IBY-FXpokh"
      }
    },
    {
      "cell_type": "code",
      "source": [
        "from sklearn.naive_bayes import GaussianNB\n",
        "nb = GaussianNB()\n",
        "nb.fit(X_train, Y_train)"
      ],
      "metadata": {
        "id": "t618Te3upoTW"
      },
      "execution_count": null,
      "outputs": []
    },
    {
      "cell_type": "markdown",
      "source": [
        ">**6.4) Support Vector Machine (SVM)**"
      ],
      "metadata": {
        "id": "1P-FMjDHptJw"
      }
    },
    {
      "cell_type": "code",
      "source": [
        "from sklearn.svm import SVC\n",
        "sv = SVC(kernel='linear')\n",
        "sv.fit(X_train,Y_train)"
      ],
      "metadata": {
        "id": "qX2IHraNpvUn"
      },
      "execution_count": null,
      "outputs": []
    },
    {
      "cell_type": "markdown",
      "source": [
        ">**6.5) Decision Tree**"
      ],
      "metadata": {
        "id": "8iP3Zs7Qpw5d"
      }
    },
    {
      "cell_type": "code",
      "source": [
        "from sklearn.tree import DecisionTreeClassifier\n",
        "dt = DecisionTreeClassifier()\n",
        "dt.fit(X_train,Y_train)"
      ],
      "metadata": {
        "id": "N1ycWEc0p0UK"
      },
      "execution_count": null,
      "outputs": []
    },
    {
      "cell_type": "markdown",
      "source": [
        ">**6.6) Random Forest**"
      ],
      "metadata": {
        "id": "WQobVdAfp18K"
      }
    },
    {
      "cell_type": "code",
      "source": [
        "from sklearn.ensemble import RandomForestClassifier\n",
        "rf = RandomForestClassifier(criterion='entropy')\n",
        "rf.fit(X_train,Y_train)"
      ],
      "metadata": {
        "id": "RqMr6q-lp49V"
      },
      "execution_count": null,
      "outputs": []
    },
    {
      "cell_type": "markdown",
      "source": [
        "# **Step 7: Making Prediction**"
      ],
      "metadata": {
        "id": "T1bGd0fLerdn"
      }
    },
    {
      "cell_type": "markdown",
      "source": [
        ">**7.1) Making Prediction using Logistic Regression**"
      ],
      "metadata": {
        "id": "QHI1JxZaqtF-"
      }
    },
    {
      "cell_type": "code",
      "source": [
        "print(f'Initial shape: {X_test.shape}')\n",
        "lr_pred = lr.predict(X_test)\n",
        "print(f'{lr_pred.shape}')"
      ],
      "metadata": {
        "id": "lATNaxjjqp79"
      },
      "execution_count": null,
      "outputs": []
    },
    {
      "cell_type": "markdown",
      "source": [
        "> **7.2) Making Prediction using KNN**"
      ],
      "metadata": {
        "id": "ghhfro2zqx5J"
      }
    },
    {
      "cell_type": "code",
      "source": [
        "knn_pred = knn.predict(X_test) \n",
        "knn_pred.shape"
      ],
      "metadata": {
        "id": "jxiOCo38qyUS"
      },
      "execution_count": null,
      "outputs": []
    },
    {
      "cell_type": "markdown",
      "source": [
        "> **7.3) Making Prediction using Naive Bayes**"
      ],
      "metadata": {
        "id": "Qyski3hLqyuA"
      }
    },
    {
      "cell_type": "code",
      "source": [
        "nb_pred = nb.predict(X_test)\n",
        "nb_pred.shape"
      ],
      "metadata": {
        "id": "7eBTATZeqzD7"
      },
      "execution_count": null,
      "outputs": []
    },
    {
      "cell_type": "markdown",
      "source": [
        "> **7.4) Making Prediction using SVM**"
      ],
      "metadata": {
        "id": "CkXGju82qzR9"
      }
    },
    {
      "cell_type": "code",
      "source": [
        "sv_pred = sv.predict(X_test)\n",
        "sv_pred.shape"
      ],
      "metadata": {
        "id": "geD4RNJqqzrl"
      },
      "execution_count": null,
      "outputs": []
    },
    {
      "cell_type": "markdown",
      "source": [
        "> **7.5) Making Prediction using Decision Tree**"
      ],
      "metadata": {
        "id": "CQrYsFWvq0CA"
      }
    },
    {
      "cell_type": "code",
      "source": [
        "dt_pred = dt.predict(X_test)"
      ],
      "metadata": {
        "id": "ETITKsjgq0Sy"
      },
      "execution_count": null,
      "outputs": []
    },
    {
      "cell_type": "markdown",
      "source": [
        "> **7.6) Making Prediciton using Random Forest**"
      ],
      "metadata": {
        "id": "pb4LuFP9rDYk"
      }
    },
    {
      "cell_type": "code",
      "source": [
        "rf_pred = rf.predict(X_test)"
      ],
      "metadata": {
        "id": "1s9f6piprD6e"
      },
      "execution_count": null,
      "outputs": []
    },
    {
      "cell_type": "markdown",
      "source": [
        "# **Step 8: Model Evaluation**"
      ],
      "metadata": {
        "id": "k_l71fqwrTMb"
      }
    },
    {
      "cell_type": "code",
      "source": [
        "from sklearn.metrics import accuracy_score"
      ],
      "metadata": {
        "id": "90SpaisJra6D"
      },
      "execution_count": null,
      "outputs": []
    },
    {
      "cell_type": "code",
      "source": [
        "# Train & Test Scores of Logistic Regression\n",
        "print(\"Accuracy (Train) score of Logistic Regression \",lr.score(X_train,Y_train)*100)\n",
        "print(\"Accuracy (Test) score of Logistic Regression \", lr.score(X_test,Y_test)*100)\n",
        "print(\"Accuracy score of Logistic Regression \", accuracy_score(Y_test,lr_pred)*100)"
      ],
      "metadata": {
        "id": "yK7WAFMqrbcr"
      },
      "execution_count": null,
      "outputs": []
    },
    {
      "cell_type": "code",
      "source": [
        "# Train & Test Scores of KNN\n",
        "print(\"Accuracy (Train) score of KNN \",knn.score(X_train,Y_train)*100)\n",
        "print(\"Accuracy (Test) score of KNN \", knn.score(X_test,Y_test)*100)\n",
        "print(\"Accuracy score of KNN \", accuracy_score(Y_test,knn_pred)*100)"
      ],
      "metadata": {
        "id": "_jTt5WWIrgoI"
      },
      "execution_count": null,
      "outputs": []
    },
    {
      "cell_type": "code",
      "source": [
        "# Train & Test Scores of Naive-Bayes\n",
        "print(\"Accuracy (Train) score of Naive Bayes \",nb.score(X_train,Y_train)*100)\n",
        "print(\"Accuracy (Test) score of Naive Bayes \", nb.score(X_test,Y_test)*100)\n",
        "print(\"Accuracy score of Naive Bayes \", accuracy_score(Y_test,nb_pred)*100)"
      ],
      "metadata": {
        "id": "tyqUrPnTrg2u"
      },
      "execution_count": null,
      "outputs": []
    },
    {
      "cell_type": "code",
      "source": [
        "# Train & Test Scores of SVM\n",
        "print(\"Accuracy (Train) score of SVM \",sv.score(X_train,Y_train)*100)\n",
        "print(\"Accuracy (Test) score of SVM \", sv.score(X_test,Y_test)*100)\n",
        "print(\"Accuracy score of SVM \", accuracy_score(Y_test,sv_pred)*100)"
      ],
      "metadata": {
        "id": "XAYL66_ArhBi"
      },
      "execution_count": null,
      "outputs": []
    },
    {
      "cell_type": "code",
      "source": [
        "# Train & Test Scores of Decision Tree\n",
        "print(\"Accuracy (Train) score of Decision Tree \",dt.score(X_train,Y_train)*100)\n",
        "print(\"Accuracy (Test) score of Decision Tree \", dt.score(X_test,Y_test)*100)\n",
        "print(\"Accuracy score of Decision Tree \", accuracy_score(Y_test,dt_pred)*100)"
      ],
      "metadata": {
        "id": "uJTPr497rhLO"
      },
      "execution_count": null,
      "outputs": []
    },
    {
      "cell_type": "code",
      "source": [
        "# Train & Test Scores of Random Forest\n",
        "print(\"Accuracy (Train) score of Random Forest \",rf.score(X_train,Y_train)*100)\n",
        "print(\"Accuracy (Test) score of Random Forest \", rf.score(X_test,Y_test)*100)\n",
        "print(\"Accuracy score of Random Forest \", accuracy_score(Y_test,rf_pred)*100)"
      ],
      "metadata": {
        "id": "BeoEbAXSrhVS"
      },
      "execution_count": null,
      "outputs": []
    },
    {
      "cell_type": "markdown",
      "source": [
        "# **Step 9: Building a Predictive System**"
      ],
      "metadata": {
        "id": "NlWOkC_WfAHh"
      }
    },
    {
      "cell_type": "code",
      "source": [
        "input_data = (197.07600,206.89600,192.05500,0.00289,0.00001,0.00166,0.00168,0.00498,0.01098,0.09700,0.00563,0.00680,0.00802,0.01689,0.00339,26.77500,0.422229,0.741367,-7.348300,0.177551,1.743867,0.085569)\n",
        "\n",
        "# changing input data to a numpy array\n",
        "input_data_as_numpy_array = np.asarray(input_data)\n",
        "\n",
        "# reshape the numpy array\n",
        "input_data_reshaped = input_data_as_numpy_array.reshape(1,-1)\n",
        "\n",
        "prediction = sv.predict(input_data_reshaped)\n",
        "print(prediction)\n",
        "\n",
        "\n",
        "if (prediction[0] == 0):\n",
        "  print(\"The Person does not have Parkinsons Disease\")\n",
        "\n",
        "else:\n",
        "  print(\"The Person has Parkinsons\")"
      ],
      "metadata": {
        "id": "arIlxm61fF4o"
      },
      "execution_count": null,
      "outputs": []
    },
    {
      "cell_type": "markdown",
      "source": [
        "# **Step 10: Saving the trained model**"
      ],
      "metadata": {
        "id": "ed-1mbrWfISp"
      }
    },
    {
      "cell_type": "code",
      "source": [
        "import pickle\n",
        "filename = 'parkinsons_model.sav'\n",
        "pickle.dump(sv, open(filename, 'wb'))\n",
        "# loading the saved model\n",
        "loaded_model = pickle.load(open('parkinsons_model.sav', 'rb'))\n",
        "for column in X.columns:\n",
        "  print(column)"
      ],
      "metadata": {
        "id": "QbkZmVUzfPV2"
      },
      "execution_count": null,
      "outputs": []
    }
  ]
}